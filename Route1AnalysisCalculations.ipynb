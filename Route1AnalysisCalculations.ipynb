{
 "cells": [
  {
   "cell_type": "code",
   "execution_count": 1,
   "metadata": {},
   "outputs": [],
   "source": [
    "# ----------------------------------------------------------------------\n",
    "# Source: https://github.com/BorisMaillard/CJ_Mobility_Visualization\n",
    "# Please feel free to contact me if you have any questions\n",
    "# Boris Maillard (boris.maillard@gmail.com)\n",
    "# ----------------------------------------------------------------------\n",
    "# Resources:\n",
    "#   https://pbpython.com/pandas-pivot-table-explained.html\n",
    "# ----------------------------------------------------------------------\n"
   ]
  },
  {
   "cell_type": "code",
   "execution_count": 2,
   "metadata": {},
   "outputs": [],
   "source": [
    "# ----------------------------------------------------------------------\n",
    "# Import of required packages ------------------------------------------\n",
    "# ----------------------------------------------------------------------\n",
    "\n",
    "import numpy as np      # multi-dimensional arrays\n",
    "import pandas as pd     # data analysis\n",
    "\n",
    "#import matplotlib.pyplot as pp    # visualize data\n",
    "#import seaborn         # more aesthetic matplotlib statistical graphics \n",
    "#import zipfile         # uncompress zip archive into  current directory\n",
    "#matplotlib inline      # keep our graphs inline\n"
   ]
  },
  {
   "cell_type": "code",
   "execution_count": 3,
   "metadata": {},
   "outputs": [],
   "source": [
    "# ----------------------------------------------------------------------\n",
    "# Import of data files -------------------------------------------------\n",
    "# ----------------------------------------------------------------------\n",
    "\n",
    "# Naming of raws:\n",
    "\n",
    "dt_Rt1_rows = ['CountyOrigin','MunicipalityOrigin',\n",
    "               'DestinationCounty','DestinationMunicipality',\n",
    "               'DirectionalCategories','UsingRt1',\n",
    "               'DirectionRt1','TotalCommunters',\n",
    "               'Car_truck_or_van_Carpooled',\n",
    "               'Car_truck_or_van_Drove_alone','Grand Total','Check',\n",
    "               'A','B','C','D','E','F','G','H','I','J','K','L','M',\n",
    "               'N','O','P','Q','R','S','T','U','V','W','X','Y','Z']\n",
    "\n",
    "# Updload of data in csv file:\n",
    "\n",
    "dt_Rt1 = pd.read_csv('Route1Analysis.csv', names = dt_Rt1_rows, \n",
    "                    skiprows = 1, na_values = ['.'])\n"
   ]
  },
  {
   "cell_type": "code",
   "execution_count": 4,
   "metadata": {},
   "outputs": [],
   "source": [
    "# ----------------------------------------------------------------------\n",
    "# DataFrame cleanup ----------------------------------------------------\n",
    "# ----------------------------------------------------------------------\n",
    "\n",
    "# Replacement of missing data by zeros:\n",
    "\n",
    "dt_Rt1.fillna(0, inplace=True);\n",
    "\n",
    "# Conversion of objects into categories for better handling:\n",
    "\n",
    "dt_Rt1[\"UsingRt1\"] = dt_Rt1[\"UsingRt1\"].astype(\"category\")\n",
    "dt_Rt1[\"UsingRt1\"].cat.set_categories([\"a\",\"c\",\"u\"],inplace=True)\n",
    "\n",
    "dt_Rt1[\"DirectionRt1\"] = dt_Rt1[\"DirectionRt1\"].astype(\"category\")\n",
    "dt_Rt1[\"DirectionRt1\"].cat.set_categories([\"North\",\"South\",\"-\"],inplace=True)\n",
    "\n",
    "\n",
    "# Check of variable types:\n",
    "\n",
    "#print(dt_Rt1['UsingRt1'].dtypes)\n",
    "#print(dt_Rt1['DirectionRt1'].dtypes)\n",
    "#print(dt_Rt1['Z'].dtypes)\n"
   ]
  },
  {
   "cell_type": "code",
   "execution_count": 5,
   "metadata": {},
   "outputs": [
    {
     "name": "stdout",
     "output_type": "stream",
     "text": [
      "Route 1 data =  13110 values\n",
      "\n"
     ]
    }
   ],
   "source": [
    "# Printing of number of lines and 2 first results:\n",
    "\n",
    "print(\"Route 1 data = \",dt_Rt1.size,\"values\\n\")\n",
    "#print(dt_Rt1.head(3),\"\\n\")\n"
   ]
  },
  {
   "cell_type": "code",
   "execution_count": 6,
   "metadata": {},
   "outputs": [],
   "source": [
    "# ----------------------------------------------------------------------\n",
    "# Pivot calculations ---------------------------------------------------\n",
    "# ----------------------------------------------------------------------\n",
    "   \n",
    "# Comments:\n",
    "#   use fill_value to set NaN values to 0.\n",
    "#   use aggfunc=np.sum to make the sum of values (not the average value)\n",
    "#   use margines=True to get the totals\n",
    "#\n",
    "# ----------------------------------------------------------------------\n",
    "# Rows\n",
    "#  'CountyOrigin','MunicipalityOrigin',\n",
    "#  'DestinationCounty','DestinationMunicipality',\n",
    "#  'DirectionalCategories','UsingRt1',\n",
    "#  'DirectionRt1','TotalCommunters',\n",
    "#  'Car_truck_or_van_Carpooled',\n",
    "#  'Car_truck_or_van_Drove_alone','Grand Total','Check',\n",
    "#  'A','B','C','D','E','F','G','H','I','J','K','L','M',\n",
    "#  'N','O','P','Q','R','S','T','U','V','W','X','Y','Z'\n"
   ]
  },
  {
   "cell_type": "code",
   "execution_count": 82,
   "metadata": {},
   "outputs": [
    {
     "name": "stdout",
     "output_type": "stream",
     "text": [
      "\n",
      "List of CJ municipalities:\n",
      " ['Cranbury township', 'East Windsor township', 'Ewing township', 'Franklin township', 'Hamilton township', 'Hightstown borough', 'Hillsborough township', 'Hopewell borough', 'Hopewell township', 'Jamesburg borough', 'Lawrence township', 'Monroe township', 'Montgomery township', 'New Brunswick city', 'North Brunswick township', 'Pennington borough', 'Plainsboro township', 'Princeton', 'Robbinsville township', 'Rocky Hill borough', 'South Brunswick township', 'Trenton city', 'West Windsor township']\n",
      "\n",
      "List of gates on Route 1:\n",
      " [('A', 0.0, 'Trenton - Center'), ('B', 1.0, 'Trenton - Olden Ave'), ('C', 2.4, 'Trenton - Whitehead Rd'), ('D', 5.45, 'InterState 295'), ('E', 6.75, 'QuarkerBridge Rd'), ('F', 8.1, 'Princeton - Meadow Rd'), ('G', 8.65, 'Princeton - Carneggie Centre'), ('H', 9.5, 'Princeton - Alexander Rd'), ('I', 9.95, 'Princeton - Washington Rd'), ('J', 10.5, 'Princeton - Harrison Rd'), ('K', 11.1, 'Plainsboro - Scudder Mills Rd'), ('L', 12.35, 'Princeton - College Rd'), ('M', 13.25, 'Princeton - Raymond Rd'), ('N', 14.5, 'Princeton - Ridge Rd'), ('O', 15.1, 'Monmouth Junction - Promenade Blvd'), ('P', 15.6, 'Monmouth Junction - Home Depot'), ('Q', 16.2, 'Monmouth Junction - New Rd'), ('R', 17.0, 'Monmouth Junction - Sand Hills Rd / Major Rd'), ('S', 18.6, 'South Brunswick - Henderson Rd / Deans Ln'), ('T', 20.35, 'North Brunswick - Regal'), ('U', 21.1, 'North Brunswick - Adam Ln'), ('V', 21.45, 'North Brunswick - Bishop Blvd'), ('W', 21.85, 'North Brunswick Plazza'), ('X', 22.8, 'North Brunswick - 130 / Miltown Rd'), ('Y', 23.35, 'North Brunswick - Ryders Ln'), ('Z', 24.65, 'North Brunswick - Burnet St')]\n"
     ]
    }
   ],
   "source": [
    "# ----------------------------------------------------------------------\n",
    "# Municipalities in Central Jersey\n",
    "\n",
    "# Table from number of drive alone commuters by CJ municipalities\n",
    "Table_MunicipalityOrigin = dt_Rt1.pivot_table(\n",
    "                            index=[\"MunicipalityOrigin\"],\n",
    "                            values=[\"Car_truck_or_van_Drove_alone\"])\n",
    "\n",
    "# List of municipalities in Central Jersey\n",
    "List_MunicipalityOrigin = list(Table_MunicipalityOrigin.index)\n",
    "print(\"\\nList of CJ municipalities:\\n\",List_MunicipalityOrigin)\n",
    "\n",
    "# List of gates on Route 1\n",
    "Rt1_gates = list([\n",
    "    ('A',  0.00, \"Trenton - Center\" ),\n",
    "    ('B',  1.00, \"Trenton - Olden Ave\" ),\n",
    "    ('C',  2.40, \"Trenton - Whitehead Rd\" ),\n",
    "    ('D',  5.45, \"InterState 295\" ),\n",
    "    ('E',  6.75, \"QuarkerBridge Rd\" ),\n",
    "    ('F',  8.10, \"Princeton - Meadow Rd\" ),\n",
    "    ('G',  8.65, \"Princeton - Carneggie Centre\" ),\n",
    "    ('H',  9.50, \"Princeton - Alexander Rd\" ),    \n",
    "    ('I',  9.95, \"Princeton - Washington Rd\" ),\n",
    "    ('J', 10.50, \"Princeton - Harrison Rd\" ),\n",
    "    ('K', 11.10, \"Plainsboro - Scudder Mills Rd\" ),\n",
    "    ('L', 12.35, \"Princeton - College Rd\" ),\n",
    "    ('M', 13.25, \"Princeton - Raymond Rd\" ),\n",
    "    ('N', 14.50, \"Princeton - Ridge Rd\" ),\n",
    "    ('O', 15.10, \"Monmouth Junction - Promenade Blvd\" ),\n",
    "    ('P', 15.60, \"Monmouth Junction - Home Depot\" ),\n",
    "    ('Q', 16.20, \"Monmouth Junction - New Rd\" ),\n",
    "    ('R', 17.00, \"Monmouth Junction - Sand Hills Rd / Major Rd\" ),\n",
    "    ('S', 18.60, \"South Brunswick - Henderson Rd / Deans Ln\" ),\n",
    "    ('T', 20.35, \"North Brunswick - Regal\" ),\n",
    "    ('U', 21.10, \"North Brunswick - Adam Ln\" ),\n",
    "    ('V', 21.45, \"North Brunswick - Bishop Blvd\" ),\n",
    "    ('W', 21.85, \"North Brunswick Plazza\" ),\n",
    "    ('X', 22.80, \"North Brunswick - 130 / Miltown Rd\" ),\n",
    "    ('Y', 23.35, \"North Brunswick - Ryders Ln\" ),\n",
    "    ('Z', 24.65, \"North Brunswick - Burnet St\" )\n",
    "])\n",
    "print(\"\\nList of gates on Route 1:\\n\",Rt1_gates)"
   ]
  },
  {
   "cell_type": "code",
   "execution_count": 62,
   "metadata": {},
   "outputs": [],
   "source": [
    "# ----------------------------------------------------------------------\n",
    "# Table of commuters from MunicipalityOrigin to DestinationMunicipality\n",
    "\n",
    "dt_Rt1_pvt_commuters = dt_Rt1.pivot_table(\n",
    "                index=[\"DirectionRt1\",\n",
    "                       \"MunicipalityOrigin\",\n",
    "                       \"DestinationMunicipality\"],\n",
    "                values=[\"TotalCommunters\",\n",
    "                        \"Car_truck_or_van_Carpooled\",\n",
    "                        \"Car_truck_or_van_Drove_alone\"],\n",
    "                aggfunc=[np.sum])\n",
    "\n",
    "#dt_Rt1_pvt_commuters\n"
   ]
  },
  {
   "cell_type": "code",
   "execution_count": 68,
   "metadata": {},
   "outputs": [],
   "source": [
    "# ----------------------------------------------------------------------\n",
    "# Table of commuters from MunicipalityOrigin to DestinationMunicipality\n",
    "#   per mode of transport and per Route 1 gate\n",
    "\n",
    "commuter_transport_mode = 'Car_truck_or_van_Drove_alone'\n",
    "Rt1_gate = 'D'\n",
    "\n",
    "dt_Rt1_pivot_table_0 = dt_Rt1.pivot_table(\n",
    "                index=[\"DirectionRt1\",\n",
    "                       \"MunicipalityOrigin\",\n",
    "                       \"DestinationMunicipality\"],\n",
    "                values=[\"TotalCommunters\",\n",
    "                        \"Car_truck_or_van_Carpooled\",\n",
    "                        \"Car_truck_or_van_Drove_alone\",\n",
    "                        \"A\",\"B\",\"C\",\"D\",\"E\",\"F\",\"G\",\"H\",\"I\",\"J\",\"K\",\n",
    "                        \"L\",\"M\",\"N\",\"O\",\"P\",\"Q\",\"R\",\"S\",\"T\",\"U\",\"V\",\n",
    "                        \"W\",\"X\",\"Y\",\"Z\"],\n",
    "                aggfunc={commuter_transport_mode: np.sum,\n",
    "                         Rt1_gate: np.sum})\n",
    "\n",
    "#dt_Rt1_pivot_table_0\n"
   ]
  },
  {
   "cell_type": "code",
   "execution_count": null,
   "metadata": {},
   "outputs": [],
   "source": []
  },
  {
   "cell_type": "code",
   "execution_count": 57,
   "metadata": {},
   "outputs": [],
   "source": [
    "# ----------------------------------------------------------------------\n",
    "# \n",
    "\n",
    "dt_Rt1_pivot_table_1 = dt_Rt1.pivot_table(\n",
    "                index=[\"MunicipalityOrigin\",\"DirectionRt1\",\"UsingRt1\"],\n",
    "                values=[\"A\",\"B\",\"C\",\"D\",\"E\",\"F\",\"G\",\"H\",\"I\",\"J\",\"K\",\n",
    "                        \"L\",\"M\",\"N\",\"O\",\"P\",\"Q\",\"R\",\"S\",\"T\",\"U\",\"V\",\n",
    "                        \"W\",\"X\",\"Y\",\"Z\"],\n",
    "                aggfunc=[np.sum],\n",
    "                margins=True)\n",
    "\n",
    "#dt_Rt1_pivot_table_1\n",
    "#dt_Rt1_pivot_table_1.query('UsingRt1 == [\"u\"]')\n"
   ]
  },
  {
   "cell_type": "code",
   "execution_count": null,
   "metadata": {},
   "outputs": [],
   "source": []
  },
  {
   "cell_type": "code",
   "execution_count": null,
   "metadata": {},
   "outputs": [],
   "source": []
  },
  {
   "cell_type": "code",
   "execution_count": null,
   "metadata": {},
   "outputs": [],
   "source": []
  },
  {
   "cell_type": "code",
   "execution_count": 12,
   "metadata": {},
   "outputs": [],
   "source": [
    "# ----------------------------------------------------------------------\n",
    "\n",
    "dt_Rt1_pivot_table_2 = dt_Rt1.pivot_table(\n",
    "                index=[\"DirectionRt1\",\"UsingRt1\"],\n",
    "                values=[\"A\",\"B\",\"C\",\"D\",\"E\",\"F\",\"G\",\"H\",\"I\",\"J\",\"K\",\n",
    "                        \"L\",\"M\",\"N\",\"O\",\"P\",\"Q\",\"R\",\"S\",\"T\",\"U\",\"V\",\n",
    "                        \"W\",\"X\",\"Y\",\"Z\"],\n",
    "                aggfunc=[np.sum],\n",
    "                margins=True)\n",
    "                                     \n",
    "#South_u = dt_Rt1_pivot_table_2.query('DirectionRt1 == [\"South\"]').query('UsingRt1 == [\"u\"]')\n",
    "#North_u = dt_Rt1_pivot_table_2.query('DirectionRt1 == [\"North\"]').query('UsingRt1 == [\"u\"]')\n",
    "\n",
    "#dt_Rt1_pivot_table_2.query('UsingRt1 == [\"u\"]')\n"
   ]
  },
  {
   "cell_type": "code",
   "execution_count": null,
   "metadata": {},
   "outputs": [],
   "source": []
  },
  {
   "cell_type": "code",
   "execution_count": null,
   "metadata": {},
   "outputs": [],
   "source": [
    "#nb_city = 0\n",
    "#while nb_city<len(List_MunicipalityOrigin):\n",
    "#    print(nb_city,List_MunicipalityOrigin[nb_city])\n",
    "#    nb_city+=1\n",
    "\n"
   ]
  }
 ],
 "metadata": {
  "kernelspec": {
   "display_name": "Python 3",
   "language": "python",
   "name": "python3"
  },
  "language_info": {
   "codemirror_mode": {
    "name": "ipython",
    "version": 3
   },
   "file_extension": ".py",
   "mimetype": "text/x-python",
   "name": "python",
   "nbconvert_exporter": "python",
   "pygments_lexer": "ipython3",
   "version": "3.7.1"
  }
 },
 "nbformat": 4,
 "nbformat_minor": 2
}
